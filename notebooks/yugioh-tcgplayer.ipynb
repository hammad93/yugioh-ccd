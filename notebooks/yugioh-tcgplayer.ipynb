{
 "cells": [
  {
   "cell_type": "markdown",
   "id": "06b948af",
   "metadata": {
    "editable": true,
    "slideshow": {
     "slide_type": ""
    },
    "tags": []
   },
   "source": [
    "# TCG Player Yugioh Cards Scraper\n",
    "This will scrape the cards from TCG Player.\n",
    "\n",
    "  1. Search cards by card name\n",
    "  2. Grab latest sales data from card\n"
   ]
  },
  {
   "cell_type": "markdown",
   "id": "3cb09904-9842-467c-a5b1-9f4062dbf611",
   "metadata": {},
   "source": [
    "## Setup"
   ]
  },
  {
   "cell_type": "code",
   "execution_count": 1,
   "id": "2eac6fed-0d5e-42b4-ab61-1fbbf6e505e0",
   "metadata": {},
   "outputs": [],
   "source": [
    "try_count = 0 # increment this for reruns or when returning from crashes to greater than 0"
   ]
  },
  {
   "cell_type": "code",
   "execution_count": 2,
   "id": "2a96d72e",
   "metadata": {},
   "outputs": [
    {
     "name": "stdout",
     "output_type": "stream",
     "text": [
      "User-agent: *\n",
      "Crawl-Delay: 10\n",
      "Allow: /\n",
      "Disallow: /*?*seller=*\n",
      "Disallow: /login\n",
      "Disallow: /search/articles\n",
      "Disallow: /content/magic-the-gathering/deck/\n",
      "Disallow: /content/disney-lorcana/deck/\n",
      "Disallow: /content/yugioh/deck/\n",
      "Disallow: /content/pokemon/deck/\n",
      "Disallow: /content/flesh-and-blood/deck/\n",
      "Sitemap: https://www.tcgplayer.com/sitemap/index.xml\n",
      "\n"
     ]
    }
   ],
   "source": [
    "# we can see the robots.txt\n",
    "import requests\n",
    "import datetime\n",
    "import sqlite3\n",
    "import utils\n",
    "print(requests.get('https://tcgplayer.com/robots.txt').text)\n"
   ]
  },
  {
   "cell_type": "code",
   "execution_count": 3,
   "id": "1cab93cd",
   "metadata": {},
   "outputs": [
    {
     "name": "stdout",
     "output_type": "stream",
     "text": [
      "yugioh-tcgplayer-2025SEP05-185755.db\n"
     ]
    }
   ],
   "source": [
    "# set this as the output database with SQLite\n",
    "\n",
    "# manually define db\n",
    "if try_count > 0:\n",
    "    target_timestamp = ''\n",
    "    db = f'yugioh-tcgplayer-{target_timestamp}.db'\n",
    "else:\n",
    "    db = f'yugioh-tcgplayer-{utils.timestamp()}.db'\n",
    "print(db)"
   ]
  },
  {
   "cell_type": "code",
   "execution_count": 4,
   "id": "f6aa5d64-3632-4f6b-937c-5e8437c5cdae",
   "metadata": {},
   "outputs": [],
   "source": [
    "# Configure logging\n",
    "logging = utils.logging\n",
    "logging.basicConfig(\n",
    "    level=logging.DEBUG,\n",
    "    format='%(asctime)s - %(levelname)s - %(message)s',\n",
    "    handlers=[\n",
    "        logging.FileHandler(f\"{db}-scraper.log\"),\n",
    "        #logging.StreamHandler() outputs to cell, can lead to huge file sizes\n",
    "    ]\n",
    ")"
   ]
  },
  {
   "cell_type": "code",
   "execution_count": 5,
   "id": "d729cdc7-d0e0-495a-a09a-a2fd8b1c8041",
   "metadata": {},
   "outputs": [],
   "source": [
    "# Setup SQLite database\n",
    "conn = sqlite3.connect(db)\n",
    "cursor = conn.cursor()\n",
    "\n",
    "# Create table if it doesn't exist\n",
    "cursor.execute('''\n",
    "CREATE TABLE IF NOT EXISTS tcgplayer_files (\n",
    "    ygo_index TEXT,\n",
    "    valid TEXT,\n",
    "    content TEXT\n",
    ")\n",
    "''')\n",
    "cursor.execute('''\n",
    "CREATE TABLE IF NOT EXISTS tcgplayer_html_files (\n",
    "    ygo_index TEXT,\n",
    "    valid TEXT,\n",
    "    content TEXT\n",
    ")\n",
    "''')\n",
    "conn.close()"
   ]
  },
  {
   "cell_type": "markdown",
   "id": "69e94e70",
   "metadata": {},
   "source": [
    "## Web Scaping Limits & Rules\n",
    "Our goal is not only to maintain compliance, but also contribute to the servers that we scrape. The requirements in robots.txt must be adhered to. Here are some of the fields and what they mean\n",
    "\n",
    "### User-agent: *\n",
    "The User-agent field is located in every request and can indicate if the request is coming from a web browser, operating system, and so on. The wildcard parameter, *, means 'All', and in this case there are no restrictions in the User-agent.\n",
    "### Crawl-Delay: 10\n",
    "In seconds, it describes the amount of delay between requests. This is important as it makes sure web scrapers are not overloading the server. There are an incredible number of methods to scrape but some of the fastest ones can make over 1 million requests all at once. \n",
    "### Allow: /\n",
    "This explains which parts of the web application or URL can be scraped. a '/' indicates the root directory which means that everything is allowed, pending understanding of what is disallowed.\n",
    "### Disallow: /*?*seller=*\n",
    "Combined with the allowed statement, this provides endpoints or parts of the URL that are not allowed. In this case, TCGPlayer doesn't allow requests that scrape seller information as a parameter indicated by the wildcards. Query parameters in the URL are specified as ?parameter_name=parameter_value . We will also respect seller privacy even when we have seller data from a page that is allowed.\n",
    "### Sitemap: https://www.tcgplayer.com/sitemap/index.xml\n",
    "This provides a \"hardcoded\" list of links and metadata that can understand what it's about."
   ]
  },
  {
   "cell_type": "code",
   "execution_count": 6,
   "id": "0677e879",
   "metadata": {},
   "outputs": [],
   "source": [
    "from xml.dom.minidom import parseString\n",
    "sitemap = parseString(requests.get('https://www.tcgplayer.com/sitemap/index.xml').content)"
   ]
  },
  {
   "cell_type": "code",
   "execution_count": 7,
   "id": "8de22172",
   "metadata": {},
   "outputs": [],
   "source": [
    "# get all yugioh sitemaps\n",
    "yugioh_maps = []\n",
    "for loc in sitemap.getElementsByTagName('loc') : # all TCGPlayer collections like Pokemon or Magic\n",
    "    current_map = loc.childNodes[0].data\n",
    "    if \"yugioh\" in current_map :\n",
    "        yugioh_maps.append(current_map)"
   ]
  },
  {
   "cell_type": "markdown",
   "id": "d0eb0324",
   "metadata": {},
   "source": [
    "## TCGPlayer Yugioh Sitemaps\n",
    "Not all sites have a sitemap defined, but understanding the structure of it, here are some conclusions,\n",
    "\n",
    "- Each yugioh map XML file has the list of cards\n",
    "- We're interested in the URL's that define \"product\" instead of other's like \"categories\" or \"search\"\n",
    "- The links seem to be sorted by newest to oldest products\n",
    "- The newest products may not have any sales\n"
   ]
  },
  {
   "cell_type": "code",
   "execution_count": 8,
   "id": "5291f459",
   "metadata": {},
   "outputs": [
    {
     "name": "stdout",
     "output_type": "stream",
     "text": [
      "['https://www.tcgplayer.com/sitemap/yugioh.0.xml', 'https://www.tcgplayer.com/sitemap/yugioh.1.xml']\n"
     ]
    }
   ],
   "source": [
    "print(yugioh_maps)"
   ]
  },
  {
   "cell_type": "markdown",
   "id": "700f7496",
   "metadata": {},
   "source": [
    "## Advanced Web Scraping\n",
    "If we're lucky, we can get all the data we need using the built in Python tools like **requests**. However, some web apps run Javascript that provide the necessary tools. In our case, there's some pertinent sales data that is loaded dynamically from TCG Player. We could break it down and make multiple simple requests but it would also multiply our processing time by the same factor. This is because the **robots.txt** asks to make 1 request per 10 seconds. The data gap between putting a URL into a modern web browser and using Python's simple requests can be filled by using advanced web scraping libraries.\n",
    "\n",
    "This takes the \"engine\" from the web browsers, referred to as \"web drivers\", and allows us to process the data similarly to what we experience from it. Additionally, some web browsers use different engines. Here, we will install the library in Python known as **playwright** and a few web drivers for compatibility. Other libraries are available including **Selenium** but it requires manual web driver installion. This will half the scraping time because we would need to make 2 requests from a simple request and at more than 33,000 cards to scrape, the time savings can equal to days.\n",
    "\n",
    "### References\n",
    "https://playwright.dev/python/docs/intro"
   ]
  },
  {
   "cell_type": "code",
   "execution_count": 9,
   "id": "34b5a9c1",
   "metadata": {
    "collapsed": true,
    "jupyter": {
     "outputs_hidden": true
    },
    "scrolled": true
   },
   "outputs": [
    {
     "name": "stdout",
     "output_type": "stream",
     "text": [
      "Requirement already satisfied: pytest-playwright in /home/hurricane-server/venv/lib/python3.12/site-packages (0.7.0)\n",
      "Requirement already satisfied: playwright>=1.18 in /home/hurricane-server/venv/lib/python3.12/site-packages (from pytest-playwright) (1.52.0)\n",
      "Requirement already satisfied: pytest<9.0.0,>=6.2.4 in /home/hurricane-server/venv/lib/python3.12/site-packages (from pytest-playwright) (8.3.5)\n",
      "Requirement already satisfied: pytest-base-url<3.0.0,>=1.0.0 in /home/hurricane-server/venv/lib/python3.12/site-packages (from pytest-playwright) (2.1.0)\n",
      "Requirement already satisfied: python-slugify<9.0.0,>=6.0.0 in /home/hurricane-server/venv/lib/python3.12/site-packages (from pytest-playwright) (8.0.4)\n",
      "Requirement already satisfied: pyee<14,>=13 in /home/hurricane-server/venv/lib/python3.12/site-packages (from playwright>=1.18->pytest-playwright) (13.0.0)\n",
      "Requirement already satisfied: greenlet<4.0.0,>=3.1.1 in /home/hurricane-server/venv/lib/python3.12/site-packages (from playwright>=1.18->pytest-playwright) (3.2.2)\n",
      "Requirement already satisfied: iniconfig in /home/hurricane-server/venv/lib/python3.12/site-packages (from pytest<9.0.0,>=6.2.4->pytest-playwright) (2.1.0)\n",
      "Requirement already satisfied: packaging in /home/hurricane-server/venv/lib/python3.12/site-packages (from pytest<9.0.0,>=6.2.4->pytest-playwright) (24.2)\n",
      "Requirement already satisfied: pluggy<2,>=1.5 in /home/hurricane-server/venv/lib/python3.12/site-packages (from pytest<9.0.0,>=6.2.4->pytest-playwright) (1.5.0)\n",
      "Requirement already satisfied: requests>=2.9 in /home/hurricane-server/venv/lib/python3.12/site-packages (from pytest-base-url<3.0.0,>=1.0.0->pytest-playwright) (2.32.3)\n",
      "Requirement already satisfied: text-unidecode>=1.3 in /home/hurricane-server/venv/lib/python3.12/site-packages (from python-slugify<9.0.0,>=6.0.0->pytest-playwright) (1.3)\n",
      "Requirement already satisfied: typing-extensions in /home/hurricane-server/venv/lib/python3.12/site-packages (from pyee<14,>=13->playwright>=1.18->pytest-playwright) (4.12.2)\n",
      "Requirement already satisfied: charset-normalizer<4,>=2 in /home/hurricane-server/venv/lib/python3.12/site-packages (from requests>=2.9->pytest-base-url<3.0.0,>=1.0.0->pytest-playwright) (3.4.1)\n",
      "Requirement already satisfied: idna<4,>=2.5 in /home/hurricane-server/venv/lib/python3.12/site-packages (from requests>=2.9->pytest-base-url<3.0.0,>=1.0.0->pytest-playwright) (3.10)\n",
      "Requirement already satisfied: urllib3<3,>=1.21.1 in /home/hurricane-server/venv/lib/python3.12/site-packages (from requests>=2.9->pytest-base-url<3.0.0,>=1.0.0->pytest-playwright) (2.3.0)\n",
      "Requirement already satisfied: certifi>=2017.4.17 in /home/hurricane-server/venv/lib/python3.12/site-packages (from requests>=2.9->pytest-base-url<3.0.0,>=1.0.0->pytest-playwright) (2025.1.31)\n"
     ]
    }
   ],
   "source": [
    "!pip install pytest-playwright"
   ]
  },
  {
   "cell_type": "code",
   "execution_count": 10,
   "id": "16027146",
   "metadata": {},
   "outputs": [
    {
     "name": "stdout",
     "output_type": "stream",
     "text": [
      "Playwright Host validation warning: \n",
      "╔════════════════════════════════════════════════════════╗\n",
      "║ Host system is missing dependencies to run browsers.   ║\n",
      "║ Please install them with the following command:        ║\n",
      "║                                                        ║\n",
      "║     sudo playwright install-deps                       ║\n",
      "║                                                        ║\n",
      "║ Alternatively, use apt:                                ║\n",
      "║     sudo apt-get install libgstreamer-plugins-bad1.0-0 ║\n",
      "║                                                        ║\n",
      "║ <3 Playwright Team                                     ║\n",
      "╚════════════════════════════════════════════════════════╝\n",
      "    at validateDependenciesLinux (/home/hurricane-server/venv/lib/python3.12/site-packages/playwright/driver/package/lib/server/registry/dependencies.js:269:9)\n",
      "\u001b[90m    at process.processTicksAndRejections (node:internal/process/task_queues:105:5)\u001b[39m\n",
      "    at async Registry._validateHostRequirements (/home/hurricane-server/venv/lib/python3.12/site-packages/playwright/driver/package/lib/server/registry/index.js:927:14)\n",
      "    at async Registry._validateHostRequirementsForExecutableIfNeeded (/home/hurricane-server/venv/lib/python3.12/site-packages/playwright/driver/package/lib/server/registry/index.js:1047:7)\n",
      "    at async Registry.validateHostRequirementsForExecutablesIfNeeded (/home/hurricane-server/venv/lib/python3.12/site-packages/playwright/driver/package/lib/server/registry/index.js:1036:7)\n",
      "    at async t.<anonymous> (/home/hurricane-server/venv/lib/python3.12/site-packages/playwright/driver/package/lib/cli/program.js:160:7)\n"
     ]
    }
   ],
   "source": [
    "# install web drivers\n",
    "!playwright install"
   ]
  },
  {
   "cell_type": "code",
   "execution_count": 11,
   "id": "d57c462a",
   "metadata": {},
   "outputs": [],
   "source": [
    "import nest_asyncio\n",
    "nest_asyncio.apply()"
   ]
  },
  {
   "cell_type": "code",
   "execution_count": 12,
   "id": "b0486b06",
   "metadata": {},
   "outputs": [],
   "source": [
    "example_url = 'https://www.tcgplayer.com/product/285222/yugioh-2022-tin-of-the-pharaohs-gods-ghost-mourner-and-moonlit-chill'\n",
    "sales_uri = 'https://mpapi.tcgplayer.com/v2/product/26720/latestsales?mpfev=2631'"
   ]
  },
  {
   "cell_type": "code",
   "execution_count": 13,
   "id": "d3b4d3e1",
   "metadata": {
    "scrolled": true
   },
   "outputs": [
    {
     "data": {
      "text/plain": [
       "True"
      ]
     },
     "execution_count": 13,
     "metadata": {},
     "output_type": "execute_result"
    }
   ],
   "source": [
    "await utils.tcgplayer_yugioh_sales(db, example_url, 'test')"
   ]
  },
  {
   "cell_type": "code",
   "execution_count": 14,
   "id": "260aa91a",
   "metadata": {
    "scrolled": true
   },
   "outputs": [],
   "source": [
    "urls = utils.get_all_urls()        "
   ]
  },
  {
   "cell_type": "code",
   "execution_count": null,
   "id": "50af8705",
   "metadata": {
    "scrolled": true
   },
   "outputs": [],
   "source": [
    "# parse and save outputs in time descending order\n",
    "while len(utils.check_if_complete(db_name = db)) > 0:\n",
    "    todo = utils.check_if_complete(db_name = db)\n",
    "    for index, url in enumerate(todo):\n",
    "        product_id = utils.to_id(url)\n",
    "        result = await utils.get_url(db, url, product_id)\n",
    "        if result :\n",
    "            log_text = f'CID {product_id} done. {index+1} out of {len(todo)} ({round((index+1)/len(todo), 5) * 100}%)'\n",
    "            logging.info(log_text)"
   ]
  },
  {
   "cell_type": "code",
   "execution_count": null,
   "id": "95c6bd67",
   "metadata": {},
   "outputs": [],
   "source": [
    "# run all above here "
   ]
  },
  {
   "cell_type": "markdown",
   "id": "182ccac1",
   "metadata": {},
   "source": [
    "## Example Outputs\n",
    "The following cells of code will outline some example outputs"
   ]
  },
  {
   "cell_type": "code",
   "execution_count": 52,
   "id": "734d06ad",
   "metadata": {},
   "outputs": [],
   "source": [
    "import importlib\n",
    "importlib.reload(utils)\n",
    "example = utils.q(\"select * from tcgplayer_html_files where ygo_index = '90804';\", db)"
   ]
  },
  {
   "cell_type": "code",
   "execution_count": 53,
   "id": "b27f752b-42ee-439c-bbbb-0396179677f0",
   "metadata": {
    "scrolled": true
   },
   "outputs": [
    {
     "data": {
      "text/plain": [
       "{'name': 'Uria, Lord of Searing Flames - 2006 Collectors Tin (CT03)',\n",
       " 'number': 'CT03-EN005',\n",
       " 'rarity': 'Secret Rare',\n",
       " 'price': '$6.97',\n",
       " 'quantity': '0',\n",
       " 'quantity_sellers': '0',\n",
       " 'price_change_3m': None,\n",
       " 'volatility': 'Med'}"
      ]
     },
     "execution_count": 53,
     "metadata": {},
     "output_type": "execute_result"
    }
   ],
   "source": [
    "utils.card_webpage_extract(example[0][2])"
   ]
  },
  {
   "cell_type": "markdown",
   "id": "5660e221",
   "metadata": {},
   "source": [
    "## Transform Data\n",
    "Now that we have the data, we can extract the information and transform it.\n",
    "\n",
    "### Card Data\n",
    "The card data is from each webpage (e.g. 57114.html) which represents 1 card. This extracts metadata from the card. Note that full card details are meant to be joined from the TCG Complete Card Database because it contains attack, defense, descriptions, and other information from the official Konami source."
   ]
  },
  {
   "cell_type": "code",
   "execution_count": 60,
   "id": "5c26cbbd",
   "metadata": {
    "scrolled": true
   },
   "outputs": [
    {
     "name": "stdout",
     "output_type": "stream",
     "text": [
      "Please reference log file\n"
     ]
    }
   ],
   "source": [
    "# process cards.\n",
    "card_ids_sql = utils.q('select ygo_index from tcgplayer_html_files;', db)\n",
    "card_ids = [index[0] for index in card_ids_sql if 'test' not in index[0]]\n",
    "# warning: running here again after redoing malformed may take long, use the designated cell\n",
    "card_data = []\n",
    "malformed_cards = []\n",
    "print(\"Please reference log file\")\n",
    "for index, card_id in enumerate(card_ids) :\n",
    "    logging.info(f'Processing {card_id} ({round(((index+1)/len(card_ids)), 4)*100}%){\" \"*50}')\n",
    "    # open HTML file\n",
    "    sql_result = utils.q(f\"select content from tcgplayer_html_files where ygo_index='{card_id}';\", db)\n",
    "    card_webpage = sql_result[0][0]\n",
    "    # extract and save\n",
    "    try:\n",
    "        card_extract = utils.card_webpage_extract(card_webpage)\n",
    "        card_extract.update({\n",
    "            'index': card_id\n",
    "        })\n",
    "        card_data.append(card_extract)\n",
    "    except Exception as e:\n",
    "        logger.info(f'\\n{card_id}\\n{e}')\n",
    "        malformed_cards.append((card_id, e))"
   ]
  },
  {
   "cell_type": "code",
   "execution_count": 61,
   "id": "63d7b0da",
   "metadata": {},
   "outputs": [
    {
     "name": "stdout",
     "output_type": "stream",
     "text": [
      "44747\n",
      "[(44748,)]\n"
     ]
    }
   ],
   "source": [
    "result = utils.q('select count(*) from tcgplayer_html_files;', db)\n",
    "print(len(card_data))\n",
    "print(result)"
   ]
  },
  {
   "cell_type": "code",
   "execution_count": 62,
   "id": "3cbdd24b",
   "metadata": {},
   "outputs": [
    {
     "data": {
      "text/plain": [
       "set()"
      ]
     },
     "execution_count": 62,
     "metadata": {},
     "output_type": "execute_result"
    }
   ],
   "source": [
    "# only expected value from errors is {\"'NoneType' object has no attribute 'text'\"}\n",
    "set([str(card[1]) for card in malformed_cards])"
   ]
  },
  {
   "cell_type": "code",
   "execution_count": 63,
   "id": "cb5c8bbe",
   "metadata": {
    "scrolled": true
   },
   "outputs": [
    {
     "data": {
      "text/plain": [
       "0"
      ]
     },
     "execution_count": 63,
     "metadata": {},
     "output_type": "execute_result"
    }
   ],
   "source": [
    "len(malformed_cards)"
   ]
  },
  {
   "cell_type": "code",
   "execution_count": 64,
   "id": "e19a5e2b",
   "metadata": {},
   "outputs": [
    {
     "name": "stdout",
     "output_type": "stream",
     "text": [
      "0\n"
     ]
    }
   ],
   "source": [
    "# get the urls for the malformed cards\n",
    "malformed_urls = []\n",
    "for redo in malformed_cards:\n",
    "    cid = redo[0].split('.')[0] # example: 57114.html\n",
    "    for url in urls:\n",
    "        if cid == url[len('https://www.tcgplayer.com/product/'):].split('/')[0] :\n",
    "            malformed_urls.append(url)\n",
    "            continue\n",
    "print(len(malformed_urls))"
   ]
  },
  {
   "cell_type": "code",
   "execution_count": 65,
   "id": "d322198a",
   "metadata": {},
   "outputs": [],
   "source": [
    "# run again here if done processing malformed\n",
    "todo = malformed_urls.copy()\n",
    "while len(todo) > 0:\n",
    "    url = todo.pop(0) # get the first element in todo\n",
    "    product_id = utils.to_id(url)\n",
    "    result = await utils.get_url(db, url, product_id, True) # set overwrite to True\n",
    "    try:\n",
    "        sql_result = utils.q(f\"select content from tcgplayer_html_files where ygo_index='{product_id}';\", db)\n",
    "        logging.info(f\"Database returned {len(sql_result[0])} for {product_id}\")\n",
    "        card_webpage = sql_result[0][0]\n",
    "        card_extract = utils.card_webpage_extract(card_webpage)\n",
    "        card_extract.update({\n",
    "            'index': card_id\n",
    "        })\n",
    "        card_data.append(card_extract)\n",
    "    except Exception as e:\n",
    "        logging.info(f'\\n{product_id}\\n{e}')\n",
    "        todo.append(url) # if it fails, put back in queue\n",
    "        continue\n",
    "    log_text = f'CID {product_id} done. {len(todo)} left. ({round((len(malformed_urls) - len(todo))/len(todo), 5) * 100}%)'\n",
    "    logging.info(log_text)"
   ]
  },
  {
   "cell_type": "code",
   "execution_count": 66,
   "id": "4cdaa179",
   "metadata": {},
   "outputs": [],
   "source": [
    "import pandas as pd\n",
    "card_df = pd.DataFrame(card_data)"
   ]
  },
  {
   "cell_type": "code",
   "execution_count": 67,
   "id": "f9b8abe2",
   "metadata": {},
   "outputs": [
    {
     "data": {
      "text/html": [
       "<div>\n",
       "<style scoped>\n",
       "    .dataframe tbody tr th:only-of-type {\n",
       "        vertical-align: middle;\n",
       "    }\n",
       "\n",
       "    .dataframe tbody tr th {\n",
       "        vertical-align: top;\n",
       "    }\n",
       "\n",
       "    .dataframe thead th {\n",
       "        text-align: right;\n",
       "    }\n",
       "</style>\n",
       "<table border=\"1\" class=\"dataframe\">\n",
       "  <thead>\n",
       "    <tr style=\"text-align: right;\">\n",
       "      <th></th>\n",
       "      <th>name</th>\n",
       "      <th>number</th>\n",
       "      <th>rarity</th>\n",
       "      <th>price</th>\n",
       "      <th>quantity</th>\n",
       "      <th>quantity_sellers</th>\n",
       "      <th>price_change_3m</th>\n",
       "      <th>volatility</th>\n",
       "      <th>index</th>\n",
       "    </tr>\n",
       "  </thead>\n",
       "  <tbody>\n",
       "    <tr>\n",
       "      <th>0</th>\n",
       "      <td>Dark Magician - 2003 Collectors Tin (BPT)</td>\n",
       "      <td>BPT-007</td>\n",
       "      <td>Secret Rare</td>\n",
       "      <td>$46.05</td>\n",
       "      <td>0</td>\n",
       "      <td>0</td>\n",
       "      <td>None</td>\n",
       "      <td>Indeterminate</td>\n",
       "      <td>22800</td>\n",
       "    </tr>\n",
       "    <tr>\n",
       "      <th>1</th>\n",
       "      <td>Buster Blader - 2003 Collectors Tin (BPT)</td>\n",
       "      <td>BPT-008</td>\n",
       "      <td>Secret Rare</td>\n",
       "      <td>$26.44</td>\n",
       "      <td>0</td>\n",
       "      <td>0</td>\n",
       "      <td>None</td>\n",
       "      <td>Indeterminate</td>\n",
       "      <td>22801</td>\n",
       "    </tr>\n",
       "    <tr>\n",
       "      <th>2</th>\n",
       "      <td>Blue-Eyes White Dragon - 2003 Collectors Tin (...</td>\n",
       "      <td>BPT-009</td>\n",
       "      <td>Secret Rare</td>\n",
       "      <td>$29.01</td>\n",
       "      <td>0</td>\n",
       "      <td>0</td>\n",
       "      <td>None</td>\n",
       "      <td>Indeterminate</td>\n",
       "      <td>22802</td>\n",
       "    </tr>\n",
       "    <tr>\n",
       "      <th>3</th>\n",
       "      <td>XYZ-Dragon Cannon - 2003 Collectors Tin (BPT)</td>\n",
       "      <td>BPT-010</td>\n",
       "      <td>Secret Rare</td>\n",
       "      <td>$13.08</td>\n",
       "      <td>0</td>\n",
       "      <td>0</td>\n",
       "      <td>None</td>\n",
       "      <td>Indeterminate</td>\n",
       "      <td>22803</td>\n",
       "    </tr>\n",
       "    <tr>\n",
       "      <th>4</th>\n",
       "      <td>Jinzo - 2003 Collectors Tin (BPT)</td>\n",
       "      <td>BPT-011</td>\n",
       "      <td>Secret Rare</td>\n",
       "      <td>$21.63</td>\n",
       "      <td>0</td>\n",
       "      <td>0</td>\n",
       "      <td>None</td>\n",
       "      <td>Low</td>\n",
       "      <td>22804</td>\n",
       "    </tr>\n",
       "    <tr>\n",
       "      <th>...</th>\n",
       "      <td>...</td>\n",
       "      <td>...</td>\n",
       "      <td>...</td>\n",
       "      <td>...</td>\n",
       "      <td>...</td>\n",
       "      <td>...</td>\n",
       "      <td>...</td>\n",
       "      <td>...</td>\n",
       "      <td>...</td>\n",
       "    </tr>\n",
       "    <tr>\n",
       "      <th>44742</th>\n",
       "      <td>Mad Sword Beast - Retro Pack 2 (2020 Date Repr...</td>\n",
       "      <td>RP02-EN023</td>\n",
       "      <td>Common</td>\n",
       "      <td>-</td>\n",
       "      <td>0</td>\n",
       "      <td>0</td>\n",
       "      <td>None</td>\n",
       "      <td>None</td>\n",
       "      <td>649833</td>\n",
       "    </tr>\n",
       "    <tr>\n",
       "      <th>44743</th>\n",
       "      <td>Melchid the Four-Face Beast - Retro Pack 2 (20...</td>\n",
       "      <td>RP02-EN029</td>\n",
       "      <td>Common</td>\n",
       "      <td>-</td>\n",
       "      <td>0</td>\n",
       "      <td>0</td>\n",
       "      <td>None</td>\n",
       "      <td>None</td>\n",
       "      <td>649839</td>\n",
       "    </tr>\n",
       "    <tr>\n",
       "      <th>44744</th>\n",
       "      <td>Harpie's Pet Dragon - Retro Pack 2 (2020 Date ...</td>\n",
       "      <td>RP02-EN093</td>\n",
       "      <td>Secret Rare</td>\n",
       "      <td>-</td>\n",
       "      <td>0</td>\n",
       "      <td>0</td>\n",
       "      <td>None</td>\n",
       "      <td>None</td>\n",
       "      <td>649903</td>\n",
       "    </tr>\n",
       "    <tr>\n",
       "      <th>44745</th>\n",
       "      <td>Dragon Master Knight - Retro Pack 2 (2020 Date...</td>\n",
       "      <td>RP02-EN097</td>\n",
       "      <td>Secret Rare</td>\n",
       "      <td>$49.98</td>\n",
       "      <td>0</td>\n",
       "      <td>0</td>\n",
       "      <td>None</td>\n",
       "      <td>Indeterminate</td>\n",
       "      <td>649907</td>\n",
       "    </tr>\n",
       "    <tr>\n",
       "      <th>44746</th>\n",
       "      <td>Token: Top Ranked COSSY Duelist (Purple) - Yu-...</td>\n",
       "      <td>TKN4-EN007</td>\n",
       "      <td>Ultra Rare</td>\n",
       "      <td>-</td>\n",
       "      <td>0</td>\n",
       "      <td>0</td>\n",
       "      <td>None</td>\n",
       "      <td>None</td>\n",
       "      <td>227871</td>\n",
       "    </tr>\n",
       "  </tbody>\n",
       "</table>\n",
       "<p>44747 rows × 9 columns</p>\n",
       "</div>"
      ],
      "text/plain": [
       "                                                    name      number  \\\n",
       "0              Dark Magician - 2003 Collectors Tin (BPT)     BPT-007   \n",
       "1              Buster Blader - 2003 Collectors Tin (BPT)     BPT-008   \n",
       "2      Blue-Eyes White Dragon - 2003 Collectors Tin (...     BPT-009   \n",
       "3          XYZ-Dragon Cannon - 2003 Collectors Tin (BPT)     BPT-010   \n",
       "4                      Jinzo - 2003 Collectors Tin (BPT)     BPT-011   \n",
       "...                                                  ...         ...   \n",
       "44742  Mad Sword Beast - Retro Pack 2 (2020 Date Repr...  RP02-EN023   \n",
       "44743  Melchid the Four-Face Beast - Retro Pack 2 (20...  RP02-EN029   \n",
       "44744  Harpie's Pet Dragon - Retro Pack 2 (2020 Date ...  RP02-EN093   \n",
       "44745  Dragon Master Knight - Retro Pack 2 (2020 Date...  RP02-EN097   \n",
       "44746  Token: Top Ranked COSSY Duelist (Purple) - Yu-...  TKN4-EN007   \n",
       "\n",
       "            rarity   price quantity quantity_sellers price_change_3m  \\\n",
       "0      Secret Rare  $46.05        0                0            None   \n",
       "1      Secret Rare  $26.44        0                0            None   \n",
       "2      Secret Rare  $29.01        0                0            None   \n",
       "3      Secret Rare  $13.08        0                0            None   \n",
       "4      Secret Rare  $21.63        0                0            None   \n",
       "...            ...     ...      ...              ...             ...   \n",
       "44742       Common       -        0                0            None   \n",
       "44743       Common       -        0                0            None   \n",
       "44744  Secret Rare       -        0                0            None   \n",
       "44745  Secret Rare  $49.98        0                0            None   \n",
       "44746   Ultra Rare       -        0                0            None   \n",
       "\n",
       "          volatility   index  \n",
       "0      Indeterminate   22800  \n",
       "1      Indeterminate   22801  \n",
       "2      Indeterminate   22802  \n",
       "3      Indeterminate   22803  \n",
       "4                Low   22804  \n",
       "...              ...     ...  \n",
       "44742           None  649833  \n",
       "44743           None  649839  \n",
       "44744           None  649903  \n",
       "44745  Indeterminate  649907  \n",
       "44746           None  227871  \n",
       "\n",
       "[44747 rows x 9 columns]"
      ]
     },
     "execution_count": 67,
     "metadata": {},
     "output_type": "execute_result"
    }
   ],
   "source": [
    "card_df"
   ]
  },
  {
   "cell_type": "code",
   "execution_count": 69,
   "id": "e40258fe",
   "metadata": {},
   "outputs": [],
   "source": [
    "card_df.to_csv(f'{db}.csv')"
   ]
  },
  {
   "cell_type": "code",
   "execution_count": null,
   "id": "9def34fa",
   "metadata": {},
   "outputs": [],
   "source": []
  }
 ],
 "metadata": {
  "kernelspec": {
   "display_name": "Python 3 (ipykernel)",
   "language": "python",
   "name": "python3"
  },
  "language_info": {
   "codemirror_mode": {
    "name": "ipython",
    "version": 3
   },
   "file_extension": ".py",
   "mimetype": "text/x-python",
   "name": "python",
   "nbconvert_exporter": "python",
   "pygments_lexer": "ipython3",
   "version": "3.12.3"
  }
 },
 "nbformat": 4,
 "nbformat_minor": 5
}
